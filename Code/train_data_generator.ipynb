{
 "cells": [
  {
   "cell_type": "code",
   "execution_count": null,
   "metadata": {
    "colab": {
     "base_uri": "https://localhost:8080/"
    },
    "collapsed": true,
    "id": "LR2-iD2dlZbp",
    "outputId": "135452e8-a32d-4b42-9567-8b8eff6c93f0"
   },
   "outputs": [
    {
     "name": "stdout",
     "output_type": "stream",
     "text": [
      "\u001b[K     |████████████████████████████████| 415 kB 4.4 MB/s \n",
      "\u001b[K     |████████████████████████████████| 291 kB 46.2 MB/s \n",
      "\u001b[K     |████████████████████████████████| 856 kB 37.1 MB/s \n",
      "\u001b[K     |████████████████████████████████| 69 kB 2.6 MB/s \n",
      "\u001b[?25h  Building wheel for pymrmr (setup.py) ... \u001b[?25l\u001b[?25hdone\n"
     ]
    }
   ],
   "source": [
    "#Run if using colab\n",
    "!pip -q install pybaseball\n",
    "!pip -q install MLB-StatsAPI\n"
   ]
  },
  {
   "cell_type": "code",
   "execution_count": 1,
   "metadata": {
    "collapsed": true,
    "id": "L4UL0XQMmheP"
   },
   "outputs": [
    {
     "ename": "ModuleNotFoundError",
     "evalue": "No module named 'NewBaeBall'",
     "output_type": "error",
     "traceback": [
      "\u001b[1;31m---------------------------------------------------------------------------\u001b[0m",
      "\u001b[1;31mModuleNotFoundError\u001b[0m                       Traceback (most recent call last)",
      "\u001b[1;32m<ipython-input-1-08527516b00a>\u001b[0m in \u001b[0;36m<module>\u001b[1;34m\u001b[0m\n\u001b[0;32m      2\u001b[0m \u001b[1;32mimport\u001b[0m \u001b[0mnumpy\u001b[0m \u001b[1;32mas\u001b[0m \u001b[0mnp\u001b[0m\u001b[1;33m\u001b[0m\u001b[1;33m\u001b[0m\u001b[0m\n\u001b[0;32m      3\u001b[0m \u001b[1;32mimport\u001b[0m \u001b[0msys\u001b[0m\u001b[1;33m\u001b[0m\u001b[1;33m\u001b[0m\u001b[0m\n\u001b[1;32m----> 4\u001b[1;33m \u001b[1;32mimport\u001b[0m \u001b[0mNewBaeBall\u001b[0m \u001b[1;32mas\u001b[0m \u001b[0mbb\u001b[0m\u001b[1;33m\u001b[0m\u001b[1;33m\u001b[0m\u001b[0m\n\u001b[0m\u001b[0;32m      5\u001b[0m \u001b[1;32mimport\u001b[0m \u001b[0mwarnings\u001b[0m\u001b[1;33m\u001b[0m\u001b[1;33m\u001b[0m\u001b[0m\n\u001b[0;32m      6\u001b[0m \u001b[0mwarnings\u001b[0m\u001b[1;33m.\u001b[0m\u001b[0mfilterwarnings\u001b[0m\u001b[1;33m(\u001b[0m\u001b[1;34m\"error\"\u001b[0m\u001b[1;33m)\u001b[0m\u001b[1;33m\u001b[0m\u001b[1;33m\u001b[0m\u001b[0m\n",
      "\u001b[1;31mModuleNotFoundError\u001b[0m: No module named 'NewBaeBall'"
     ]
    }
   ],
   "source": [
    "import pandas as pd\n",
    "import numpy as np\n",
    "import sys\n",
    "sys.path.insert(0,'') #You may need to include the path to where these folders are stored if using Colab\n",
    "import BaeBall as bb\n",
    "import warnings\n",
    "warnings.filterwarnings(\"error\")\n",
    "import requests\n",
    "import os\n",
    "\n"
   ]
  },
  {
   "cell_type": "markdown",
   "metadata": {
    "id": "QS9Cs4f33uHR"
   },
   "source": [
    "## **Generate Training Data**"
   ]
  },
  {
   "cell_type": "code",
   "execution_count": null,
   "metadata": {
    "id": "hr1QoNI0181Z"
   },
   "outputs": [],
   "source": [
    "outdir='' #choose directory to store feature matrices\n",
    "\n",
    "#Years used for training\n",
    "years=list(range(2013,2022))\n",
    "years.pop(-2) #skipped 2020 for now... COVID\n",
    "months=list(range(4,9)) #generally season start and end\n",
    "days=[15,30] #Two dates per month\n",
    "DFList={}\n",
    "LogList=[]\n",
    "ProbList=[]\n",
    "for year in years:\n",
    "  for month in months:\n",
    "    for day in days:\n",
    "      \n",
    "\n",
    "      CurrentDate=str(year)+'-'+str(month).zfill(2)+'-'+str(day).zfill(2)\n",
    "      if os.path.exists(os.path.join(outdir,CurrentDate+'.csv')):\n",
    "        continue\n",
    "\n",
    "      feature_matrix,log,progDFs=bb.get_feature_matrix(number_of_batters=200, #see utils file for arguments\n",
    "                            number_of_games=5,\n",
    "                            date=CurrentDate,\n",
    "                            duration_prior=90, \n",
    "                            GetMatchupValues=1, #Adjust this as desired\n",
    "                            train=1,\n",
    "                            method_few_recent_games='padzero')\n",
    "      DFList[CurrentDate]=(feature_matrix)\n",
    "\n",
    "      feature_matrix.to_csv(os.path.join(outdir,CurrentDate+'.csv')) #Save the feature sheet for this day\n",
    "      LogList.append(log)\n",
    "      if len(feature_matrix)==0:\n",
    "        ProbList.append(progDFs)\n",
    "      print(\"Finished %s\" % CurrentDate)"
   ]
  },
  {
   "cell_type": "code",
   "execution_count": null,
   "metadata": {
    "id": "9OKbA3bAxwzr"
   },
   "outputs": [],
   "source": [
    "#Create one feature matrix of all training data\n",
    "\n",
    "SheetDir=outdir\n",
    "FinalDF=pd.DataFrame()\n",
    "for sheetpath in os.listdir(SheetDir):\n",
    "  currentsheet=pd.read_csv(os.path.join(SheetDir,sheetpath))\n",
    "  FinalDF=pd.concat((FinalDF,currentsheet),axis=0)\n",
    "\n",
    "FinalDF=FinalDF.reset_index(drop=True)\n",
    "FinalDF.columns\n",
    "SelectedCols=['IDfg', 'Name', 'Team', 'Age', 'AVG', 'OBP', 'SLG',\n",
    "       'Contact% (pi)', 'BatterIDs', 'TeamIDs', 'Pitchers', 'Home', 'Ballpark',\n",
    "       'BallparkNumber', 'PitcherIDs', 'era', 'h9', 'k9', 'whip', 'avg',\n",
    "       'MatchupAverage', \n",
    "       'Game 1', 'Game 2', 'Game 3', 'Game 4', 'Game 5',\n",
    "       'TestLabels']\n",
    "FinalizedSheet=FinalDF[SelectedCols]\n",
    "FinalizedSheet.to_csv('') #Set output name"
   ]
  },
  {
   "cell_type": "code",
   "execution_count": null,
   "metadata": {
    "id": "mn4jZK3pl5XP"
   },
   "outputs": [],
   "source": [
    "#Do the above twice with and without matchup data"
   ]
  }
 ],
 "metadata": {
  "colab": {
   "collapsed_sections": [],
   "name": "TrainingDataGenerator.ipynb",
   "provenance": []
  },
  "kernelspec": {
   "display_name": "Python 3",
   "language": "python",
   "name": "python3"
  },
  "language_info": {
   "codemirror_mode": {
    "name": "ipython",
    "version": 3
   },
   "file_extension": ".py",
   "mimetype": "text/x-python",
   "name": "python",
   "nbconvert_exporter": "python",
   "pygments_lexer": "ipython3",
   "version": "3.7.4"
  }
 },
 "nbformat": 4,
 "nbformat_minor": 1
}
